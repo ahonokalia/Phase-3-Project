{
 "cells": [
  {
   "cell_type": "markdown",
   "metadata": {},
   "source": [
    "# **Analyzing Terry Stops and Arrest Decisions: A Data-Driven Approach**"
   ]
  },
  {
   "cell_type": "markdown",
   "metadata": {},
   "source": [
    "Law enforcement agencies face the challenge of balancing public safety with individual rights during Terry Stops. These brief investigative detentions, often based on reasonable suspicion, can lead to biased profiling, unnecessary arrests, and erosion of community trust. To address these issues, law enforcement agencies, community organizations, and policymakers can work towards more equitable policing practices and enhance community trust by implementing  strategies that minimize bias, uphold legal standards, and maximize the effectiveness of these encounters."
   ]
  },
  {
   "cell_type": "markdown",
   "metadata": {},
   "source": [
    "# **BUSINESS PROBLEM**<u>"
   ]
  },
  {
   "cell_type": "markdown",
   "metadata": {},
   "source": [
    "\n",
    "#### **Overview**\n",
    "The primary objective is to analyze police stop data to identify patterns related to racial profiling, stop resolutions, and the effectiveness of police interventions. This analysis can inform policy changes as well  improve community relations.\n",
    "\n",
    "\n",
    "**Key Questions**:\n",
    "\n",
    "-inquiry into whether race (of officer or of subject) plays a role in whether or not an arrest is made\n",
    "\n",
    "-Are there disparities in stop rates among different racial or ethnic groups?\n",
    "\n",
    "-What are the common reasons for stops, and how do they correlate with outcomes?\n",
    "\n",
    "-How effective are the stops in terms of arrests or resolutions?\n",
    "\n",
    "---\n",
    "\n",
    "### **Challenges**\n",
    "1. **Resource Inefficiency**:\n",
    " -Understanding the frequency and types of stops can help police departments allocate resources more effectively to address community safety concerns without bias.\n",
    "\n",
    "2. **Potential Bias**:\n",
    "   - Disproportionate impacts on certain racial or demographic groups.\n",
    "   - Public distrust due to perceived or real biases in stop outcomes.\n",
    "\n",
    "3. **Data Limitations**:\n",
    "   - Incomplete or noisy data on stops, arrests, and contextual factors.\n",
    "   - Challenges in integrating diverse data sources like time, location, and officer information.\n",
    "\n",
    "4. **Legal and Ethical Concerns**:\n",
    "   - Risk of reinforcing existing biases through model predictions.\n",
    "   - Transparency issues when using machine learning models in sensitive areas.\n",
    "\n",
    "---\n",
    "\n",
    "### **Problem Statement**\n",
    "How can police departments optimize resource allocation and improve fairness in Terry Stops by predicting arrest likelihood while addressing potential biases and ethical concerns?\n",
    "\n",
    "---\n",
    "\n",
    "### **Proposed Solution**\n",
    "#### **Analysis**:\n",
    "1. **Exploratory Data Analysis (EDA)**:\n",
    "   - We will assess the arrest rates across different demographic groups, time of day, and presence of weapons.\n",
    "   - As well as Identify patterns in stop outcomes to understand resource usage inefficiencies.\n",
    "\n",
    "2. **Bias and Fairness Analysis**:\n",
    "   - Measure disparate impact across racial and gender groups.\n",
    "   - Test for systemic biases using fairness-aware metrics.\n",
    "\n",
    "#### **Machine Learning Implementation**:\n",
    "1. **Model Development**:\n",
    "   - Train a classification model in order to predict the likelihood of arrest.\n",
    "   - Use features like time of day, presence of weapons, gender, race, and location of the stop.\n",
    "\n",
    "2. **Ethical Safeguards**:\n",
    "   - Exclude or de-emphasize sensitive variables to mitigate bias.\n",
    "   - Post-modeling bias detection using fairness-aware tools.\n",
    "\n",
    "3. **Optimization**:\n",
    "   - Recommend resource prioritization based on high-confidence predictions.\n",
    "   - Implement real-time dashboards to guide officers on resource allocation.\n",
    "\n",
    "4. **Validation**:\n",
    "   - Evaluate model performance using metrics like ROC-AUC, precision, recall, and fairness scores.\n",
    "   - Perform stress-testing under varying scenarios to ensure robustness.\n",
    "\n",
    "---\n",
    "\n",
    "### **Conclusion**\n",
    "The implementation of a functional  model can enhance the efficiency of police resource allocation during Terry Stops. By incorporating fairness-aware approaches and ethical safeguards, this solution can also address biases and build public trust. The project highlights the importance of transparency and responsible AI practices in law enforcement.\n",
    "\n"
   ]
  },
  {
   "cell_type": "markdown",
   "metadata": {},
   "source": [
    "# **DATA UNDERSTANDING**\n",
    "***"
   ]
  },
  {
   "cell_type": "markdown",
   "metadata": {},
   "source": [
    "The dataset derived from the Terry v. Ohio case would likely contain several features related to the Terry Stops (police stops based on reasonable suspicion) and the arrest outcomes. Understanding the dataset is a critical first step Zin building an our effective machine learning model. \n",
    "\n",
    "\n"
   ]
  },
  {
   "cell_type": "markdown",
   "metadata": {},
   "source": [
    "# **DATA PREPARATION**"
   ]
  },
  {
   "cell_type": "markdown",
   "metadata": {},
   "source": [
    "First we import neccesacy libraries that help in preparation of data"
   ]
  },
  {
   "cell_type": "code",
   "execution_count": 1,
   "metadata": {},
   "outputs": [],
   "source": [
    "import pandas as pd, numpy as np\n",
    "import sqlite3\n",
    "import matplotlib.pyplot as plt\n",
    "import seaborn as sns\n",
    "from sklearn.model_selection import train_test_split\n",
    "from sklearn.linear_model import LinearRegression\n",
    "from sklearn import metrics\n",
    "%matplotlib inline"
   ]
  },
  {
   "cell_type": "markdown",
   "metadata": {},
   "source": [
    "Next is checking the information on the data set to see what we will use in order to deal wth the data properly"
   ]
  },
  {
   "cell_type": "code",
   "execution_count": 2,
   "metadata": {
    "scrolled": true
   },
   "outputs": [
    {
     "data": {
      "text/html": [
       "<div>\n",
       "<style scoped>\n",
       "    .dataframe tbody tr th:only-of-type {\n",
       "        vertical-align: middle;\n",
       "    }\n",
       "\n",
       "    .dataframe tbody tr th {\n",
       "        vertical-align: top;\n",
       "    }\n",
       "\n",
       "    .dataframe thead th {\n",
       "        text-align: right;\n",
       "    }\n",
       "</style>\n",
       "<table border=\"1\" class=\"dataframe\">\n",
       "  <thead>\n",
       "    <tr style=\"text-align: right;\">\n",
       "      <th></th>\n",
       "      <th>Subject Age Group</th>\n",
       "      <th>Subject ID</th>\n",
       "      <th>GO / SC Num</th>\n",
       "      <th>Terry Stop ID</th>\n",
       "      <th>Stop Resolution</th>\n",
       "      <th>Weapon Type</th>\n",
       "      <th>Officer ID</th>\n",
       "      <th>Officer YOB</th>\n",
       "      <th>Officer Gender</th>\n",
       "      <th>Officer Race</th>\n",
       "      <th>...</th>\n",
       "      <th>Reported Time</th>\n",
       "      <th>Initial Call Type</th>\n",
       "      <th>Final Call Type</th>\n",
       "      <th>Call Type</th>\n",
       "      <th>Officer Squad</th>\n",
       "      <th>Arrest Flag</th>\n",
       "      <th>Frisk Flag</th>\n",
       "      <th>Precinct</th>\n",
       "      <th>Sector</th>\n",
       "      <th>Beat</th>\n",
       "    </tr>\n",
       "  </thead>\n",
       "  <tbody>\n",
       "    <tr>\n",
       "      <th>0</th>\n",
       "      <td>1 - 17</td>\n",
       "      <td>-1</td>\n",
       "      <td>20170000167029</td>\n",
       "      <td>264811</td>\n",
       "      <td>Offense Report</td>\n",
       "      <td>None</td>\n",
       "      <td>6783</td>\n",
       "      <td>1976</td>\n",
       "      <td>M</td>\n",
       "      <td>White</td>\n",
       "      <td>...</td>\n",
       "      <td>15:13:00.0000000</td>\n",
       "      <td>OBS - FIGHT - IP - PHYSICAL (NO WEAPONS)</td>\n",
       "      <td>--DISTURBANCE - FIGHT</td>\n",
       "      <td>911</td>\n",
       "      <td>EAST PCT 2ND W - GEORGE - PLATOON 2</td>\n",
       "      <td>N</td>\n",
       "      <td>N</td>\n",
       "      <td>West</td>\n",
       "      <td>K</td>\n",
       "      <td>K3</td>\n",
       "    </tr>\n",
       "    <tr>\n",
       "      <th>1</th>\n",
       "      <td>26 - 35</td>\n",
       "      <td>-1</td>\n",
       "      <td>20160000000367</td>\n",
       "      <td>122750</td>\n",
       "      <td>Field Contact</td>\n",
       "      <td>None</td>\n",
       "      <td>6907</td>\n",
       "      <td>1979</td>\n",
       "      <td>M</td>\n",
       "      <td>White</td>\n",
       "      <td>...</td>\n",
       "      <td>16:29:00.0000000</td>\n",
       "      <td>-</td>\n",
       "      <td>-</td>\n",
       "      <td>-</td>\n",
       "      <td>SOUTH PCT OPS - NIGHT ACT</td>\n",
       "      <td>N</td>\n",
       "      <td>N</td>\n",
       "      <td>-</td>\n",
       "      <td>-</td>\n",
       "      <td>-</td>\n",
       "    </tr>\n",
       "    <tr>\n",
       "      <th>2</th>\n",
       "      <td>18 - 25</td>\n",
       "      <td>-1</td>\n",
       "      <td>20160000002097</td>\n",
       "      <td>156305</td>\n",
       "      <td>Field Contact</td>\n",
       "      <td>None</td>\n",
       "      <td>7492</td>\n",
       "      <td>1983</td>\n",
       "      <td>M</td>\n",
       "      <td>White</td>\n",
       "      <td>...</td>\n",
       "      <td>01:54:00.0000000</td>\n",
       "      <td>-</td>\n",
       "      <td>-</td>\n",
       "      <td>-</td>\n",
       "      <td>NORTH PCT 3RD W - LINCOLN - PLATOON 1</td>\n",
       "      <td>N</td>\n",
       "      <td>N</td>\n",
       "      <td>-</td>\n",
       "      <td>-</td>\n",
       "      <td>-</td>\n",
       "    </tr>\n",
       "    <tr>\n",
       "      <th>3</th>\n",
       "      <td>46 - 55</td>\n",
       "      <td>-1</td>\n",
       "      <td>20160000002085</td>\n",
       "      <td>156051</td>\n",
       "      <td>Field Contact</td>\n",
       "      <td>None</td>\n",
       "      <td>7652</td>\n",
       "      <td>1985</td>\n",
       "      <td>M</td>\n",
       "      <td>Black or African American</td>\n",
       "      <td>...</td>\n",
       "      <td>05:50:00.0000000</td>\n",
       "      <td>-</td>\n",
       "      <td>-</td>\n",
       "      <td>-</td>\n",
       "      <td>WEST PCT 1ST W - KQ/DM RELIEF</td>\n",
       "      <td>N</td>\n",
       "      <td>N</td>\n",
       "      <td>South</td>\n",
       "      <td>R</td>\n",
       "      <td>R3</td>\n",
       "    </tr>\n",
       "    <tr>\n",
       "      <th>4</th>\n",
       "      <td>26 - 35</td>\n",
       "      <td>-1</td>\n",
       "      <td>20160000270653</td>\n",
       "      <td>179111</td>\n",
       "      <td>Offense Report</td>\n",
       "      <td>Lethal Cutting Instrument</td>\n",
       "      <td>5987</td>\n",
       "      <td>1967</td>\n",
       "      <td>M</td>\n",
       "      <td>White</td>\n",
       "      <td>...</td>\n",
       "      <td>14:52:00.0000000</td>\n",
       "      <td>ASLT - CRITICAL (NO SHOOTINGS)</td>\n",
       "      <td>--CRISIS COMPLAINT - GENERAL</td>\n",
       "      <td>911</td>\n",
       "      <td>NORTH PCT 2ND WATCH - B/N RELIEF</td>\n",
       "      <td>N</td>\n",
       "      <td>N</td>\n",
       "      <td>North</td>\n",
       "      <td>B</td>\n",
       "      <td>B1</td>\n",
       "    </tr>\n",
       "  </tbody>\n",
       "</table>\n",
       "<p>5 rows × 23 columns</p>\n",
       "</div>"
      ],
      "text/plain": [
       "  Subject Age Group  Subject ID     GO / SC Num  Terry Stop ID  \\\n",
       "0            1 - 17          -1  20170000167029         264811   \n",
       "1           26 - 35          -1  20160000000367         122750   \n",
       "2           18 - 25          -1  20160000002097         156305   \n",
       "3           46 - 55          -1  20160000002085         156051   \n",
       "4           26 - 35          -1  20160000270653         179111   \n",
       "\n",
       "  Stop Resolution                Weapon Type Officer ID  Officer YOB  \\\n",
       "0  Offense Report                       None       6783         1976   \n",
       "1   Field Contact                       None       6907         1979   \n",
       "2   Field Contact                       None       7492         1983   \n",
       "3   Field Contact                       None       7652         1985   \n",
       "4  Offense Report  Lethal Cutting Instrument       5987         1967   \n",
       "\n",
       "  Officer Gender               Officer Race  ...     Reported Time  \\\n",
       "0              M                      White  ...  15:13:00.0000000   \n",
       "1              M                      White  ...  16:29:00.0000000   \n",
       "2              M                      White  ...  01:54:00.0000000   \n",
       "3              M  Black or African American  ...  05:50:00.0000000   \n",
       "4              M                      White  ...  14:52:00.0000000   \n",
       "\n",
       "                          Initial Call Type               Final Call Type  \\\n",
       "0  OBS - FIGHT - IP - PHYSICAL (NO WEAPONS)         --DISTURBANCE - FIGHT   \n",
       "1                                         -                             -   \n",
       "2                                         -                             -   \n",
       "3                                         -                             -   \n",
       "4            ASLT - CRITICAL (NO SHOOTINGS)  --CRISIS COMPLAINT - GENERAL   \n",
       "\n",
       "  Call Type                          Officer Squad Arrest Flag Frisk Flag  \\\n",
       "0       911    EAST PCT 2ND W - GEORGE - PLATOON 2           N          N   \n",
       "1         -              SOUTH PCT OPS - NIGHT ACT           N          N   \n",
       "2         -  NORTH PCT 3RD W - LINCOLN - PLATOON 1           N          N   \n",
       "3         -          WEST PCT 1ST W - KQ/DM RELIEF           N          N   \n",
       "4       911       NORTH PCT 2ND WATCH - B/N RELIEF           N          N   \n",
       "\n",
       "  Precinct Sector Beat  \n",
       "0     West      K   K3  \n",
       "1        -      -    -  \n",
       "2        -      -    -  \n",
       "3    South      R   R3  \n",
       "4    North      B   B1  \n",
       "\n",
       "[5 rows x 23 columns]"
      ]
     },
     "execution_count": 2,
     "metadata": {},
     "output_type": "execute_result"
    }
   ],
   "source": [
    "#This is to show open our data set as well as get an overview\n",
    "df_terry_stops= pd.read_csv(\"C:\\\\Users\\\\PRECIOUS\\\\Desktop\\\\phase_3\\\\project\\\\Terry_Stops_20241201.csv\")\n",
    "df_terry_stops.head()"
   ]
  },
  {
   "cell_type": "markdown",
   "metadata": {},
   "source": [
    "The specified variables that will help in our analysis soas to get a bigger picture include :\n",
    "**Officer Race ,\n",
    "Officer Gender,\n",
    "Weapons Type ,\n",
    "Stop Resolution,\n",
    "Age of Suspect,\n",
    "Precinct,\n",
    "Officer ID,\n",
    "Terry Stop ID,\n",
    "Time of Day (extracted from Reported Time),\n",
    "initial call, \n",
    "final call**"
   ]
  },
  {
   "cell_type": "code",
   "execution_count": 3,
   "metadata": {},
   "outputs": [
    {
     "name": "stdout",
     "output_type": "stream",
     "text": [
      "Index(['Subject Age Group', 'Subject ID', 'GO / SC Num', 'Terry Stop ID',\n",
      "       'Stop Resolution', 'Weapon Type', 'Officer ID', 'Officer YOB',\n",
      "       'Officer Gender', 'Officer Race', 'Subject Perceived Race',\n",
      "       'Subject Perceived Gender', 'Reported Date', 'Reported Time',\n",
      "       'Initial Call Type', 'Final Call Type', 'Call Type', 'Officer Squad',\n",
      "       'Arrest Flag', 'Frisk Flag', 'Precinct', 'Sector', 'Beat'],\n",
      "      dtype='object')\n"
     ]
    }
   ],
   "source": [
    "print(df_terry_stops.columns)#to list the columns in our data set"
   ]
  },
  {
   "cell_type": "code",
   "execution_count": 4,
   "metadata": {},
   "outputs": [
    {
     "name": "stdout",
     "output_type": "stream",
     "text": [
      "(61998, 23)\n"
     ]
    }
   ],
   "source": [
    "print(df_terry_stops.shape) #To show shape of our ata set\n"
   ]
  },
  {
   "cell_type": "code",
   "execution_count": 5,
   "metadata": {},
   "outputs": [
    {
     "name": "stdout",
     "output_type": "stream",
     "text": [
      "<class 'pandas.core.frame.DataFrame'>\n",
      "RangeIndex: 61998 entries, 0 to 61997\n",
      "Data columns (total 23 columns):\n",
      " #   Column                    Non-Null Count  Dtype \n",
      "---  ------                    --------------  ----- \n",
      " 0   Subject Age Group         61998 non-null  object\n",
      " 1   Subject ID                61998 non-null  int64 \n",
      " 2   GO / SC Num               61998 non-null  int64 \n",
      " 3   Terry Stop ID             61998 non-null  int64 \n",
      " 4   Stop Resolution           61998 non-null  object\n",
      " 5   Weapon Type               61998 non-null  object\n",
      " 6   Officer ID                61998 non-null  object\n",
      " 7   Officer YOB               61998 non-null  int64 \n",
      " 8   Officer Gender            61998 non-null  object\n",
      " 9   Officer Race              61998 non-null  object\n",
      " 10  Subject Perceived Race    61998 non-null  object\n",
      " 11  Subject Perceived Gender  61998 non-null  object\n",
      " 12  Reported Date             61998 non-null  object\n",
      " 13  Reported Time             61998 non-null  object\n",
      " 14  Initial Call Type         61998 non-null  object\n",
      " 15  Final Call Type           61998 non-null  object\n",
      " 16  Call Type                 61998 non-null  object\n",
      " 17  Officer Squad             61437 non-null  object\n",
      " 18  Arrest Flag               61998 non-null  object\n",
      " 19  Frisk Flag                61998 non-null  object\n",
      " 20  Precinct                  61998 non-null  object\n",
      " 21  Sector                    61998 non-null  object\n",
      " 22  Beat                      61998 non-null  object\n",
      "dtypes: int64(4), object(19)\n",
      "memory usage: 10.9+ MB\n",
      "None\n"
     ]
    }
   ],
   "source": [
    "# Checking data types and non-null counts\n",
    "print(df_terry_stops.info())"
   ]
  },
  {
   "cell_type": "markdown",
   "metadata": {},
   "source": [
    " **Identify and handle outliers in numerical columns like Subject Age Group which shows as an object rather than an integer.\n",
    " This will help in knowng specific age groups which had the most arrests occur**"
   ]
  },
  {
   "cell_type": "code",
   "execution_count": 6,
   "metadata": {},
   "outputs": [
    {
     "name": "stdout",
     "output_type": "stream",
     "text": [
      "['1 - 17' '26 - 35' '18 - 25' '46 - 55' '36 - 45' '-' '56 and Above']\n"
     ]
    }
   ],
   "source": [
    "print(df_terry_stops['Subject Age Group'].unique())#To display unique values \n"
   ]
  },
  {
   "cell_type": "code",
   "execution_count": 7,
   "metadata": {},
   "outputs": [],
   "source": [
    "import re\n",
    "\n",
    "# Extract the first number in each value (since it's in a range format)\n",
    "df_terry_stops['Subject Age Group'] = df_terry_stops['Subject Age Group'].apply(\n",
    "    lambda x: int(re.search(r'\\d+', x).group()) if isinstance(x, str) and re.search(r'\\d+', x) else None\n",
    ")\n"
   ]
  },
  {
   "cell_type": "code",
   "execution_count": 8,
   "metadata": {},
   "outputs": [],
   "source": [
    "df_terry_stops['Subject Age Group'].fillna(-1, inplace=True)  # Replace with -1 or another default\n"
   ]
  },
  {
   "cell_type": "code",
   "execution_count": 9,
   "metadata": {},
   "outputs": [
    {
     "name": "stdout",
     "output_type": "stream",
     "text": [
      "Subject Age Group            int32\n",
      "Subject ID                   int64\n",
      "GO / SC Num                  int64\n",
      "Terry Stop ID                int64\n",
      "Stop Resolution             object\n",
      "Weapon Type                 object\n",
      "Officer ID                  object\n",
      "Officer YOB                  int64\n",
      "Officer Gender              object\n",
      "Officer Race                object\n",
      "Subject Perceived Race      object\n",
      "Subject Perceived Gender    object\n",
      "Reported Date               object\n",
      "Reported Time               object\n",
      "Initial Call Type           object\n",
      "Final Call Type             object\n",
      "Call Type                   object\n",
      "Officer Squad               object\n",
      "Arrest Flag                 object\n",
      "Frisk Flag                  object\n",
      "Precinct                    object\n",
      "Sector                      object\n",
      "Beat                        object\n",
      "dtype: object\n"
     ]
    }
   ],
   "source": [
    "#Now we check on our data type again to see the changes made peak at how its now int32\n",
    "df_terry_stops['Subject Age Group'] = df_terry_stops['Subject Age Group'].astype(int)\n",
    "\n",
    "\n",
    "print(df_terry_stops.dtypes)"
   ]
  },
  {
   "cell_type": "code",
   "execution_count": 10,
   "metadata": {},
   "outputs": [
    {
     "name": "stdout",
     "output_type": "stream",
     "text": [
      "Index(['Subject Age Group', 'Subject ID', 'GO / SC Num', 'Terry Stop ID',\n",
      "       'Stop Resolution', 'Weapon Type', 'Officer ID', 'Officer YOB',\n",
      "       'Officer Gender', 'Officer Race', 'Subject Perceived Race',\n",
      "       'Subject Perceived Gender', 'Reported Date', 'Reported Time',\n",
      "       'Initial Call Type', 'Final Call Type', 'Call Type', 'Officer Squad',\n",
      "       'Arrest Flag', 'Frisk Flag', 'Precinct', 'Sector', 'Beat'],\n",
      "      dtype='object')\n"
     ]
    }
   ],
   "source": [
    "print(df_terry_stops.columns)\n"
   ]
  },
  {
   "cell_type": "markdown",
   "metadata": {},
   "source": [
    "**Then we derive the time of day as of when these arrests occur. This helps us in identifying at what point  in the time of day were the Terry stops at its peak**"
   ]
  },
  {
   "cell_type": "code",
   "execution_count": 11,
   "metadata": {},
   "outputs": [
    {
     "name": "stdout",
     "output_type": "stream",
     "text": [
      "Night        23313\n",
      "Morning      13844\n",
      "Afternoon    12743\n",
      "Evening      12098\n",
      "Name: Time of Day, dtype: int64\n"
     ]
    }
   ],
   "source": [
    "# Define a function to categorize time of day\n",
    "import pandas as pd\n",
    "\n",
    "\n",
    "# Convert 'Reported Time' to datetime\n",
    "df_terry_stops['Reported Time'] = pd.to_datetime(df_terry_stops['Reported Time'], errors='coerce')\n",
    "\n",
    "# Define a function to categorize time of day\n",
    "def categorize_time_of_day(time):\n",
    "    if time.hour >= 5 and time.hour < 12:\n",
    "        return 'Morning'\n",
    "    elif time.hour >= 12 and time.hour < 17:\n",
    "        return 'Afternoon'\n",
    "    elif time.hour >= 17 and time.hour < 21:\n",
    "        return 'Evening'\n",
    "    else:\n",
    "        return 'Night'\n",
    "\n",
    "# Apply the function to create a new column\n",
    "df_terry_stops['Time of Day'] = df_terry_stops['Reported Time'].apply(categorize_time_of_day)\n",
    "\n",
    "# Count occurrences of each category\n",
    "time_of_day_counts = df_terry_stops['Time of Day'].value_counts()\n",
    "print(time_of_day_counts)"
   ]
  },
  {
   "cell_type": "code",
   "execution_count": 12,
   "metadata": {},
   "outputs": [],
   "source": [
    "# Fill missing values with 0\n",
    "df_terry_stops['Subject Age Group'].fillna(0, inplace=True)\n",
    "\n",
    "# Remove rows with missing values\n",
    "df_terry_stops.dropna(inplace=True)"
   ]
  },
  {
   "cell_type": "markdown",
   "metadata": {},
   "source": [
    "**Now we deal with categorical  variables**"
   ]
  },
  {
   "cell_type": "code",
   "execution_count": 13,
   "metadata": {},
   "outputs": [
    {
     "name": "stdout",
     "output_type": "stream",
     "text": [
      "Stop Resolution                            Arrest  Citation / Infraction  \\\n",
      "Officer Race                                                               \n",
      "American Indian or Alaska Native               57                      0   \n",
      "Asian                                         726                      7   \n",
      "Black or African American                     512                     12   \n",
      "Declined to Answer                            683                     16   \n",
      "Hispanic                                      960                     20   \n",
      "Native Hawaiian or Other Pacific Islander     115                      2   \n",
      "Two or More Races                            1083                     18   \n",
      "Unknown                                        10                      0   \n",
      "White                                       10749                    143   \n",
      "\n",
      "Stop Resolution                            Field Contact  Offense Report  \\\n",
      "Officer Race                                                               \n",
      "American Indian or Alaska Native                      94              83   \n",
      "Asian                                               1459             752   \n",
      "Black or African American                           1272             651   \n",
      "Declined to Answer                                  1360             789   \n",
      "Hispanic                                            2336             738   \n",
      "Native Hawaiian or Other Pacific Islander            236             193   \n",
      "Two or More Races                                   2187            1008   \n",
      "Unknown                                               20               8   \n",
      "White                                              21001           11418   \n",
      "\n",
      "Stop Resolution                            Referred for Prosecution  \n",
      "Officer Race                                                         \n",
      "American Indian or Alaska Native                                  5  \n",
      "Asian                                                            28  \n",
      "Black or African American                                        23  \n",
      "Declined to Answer                                               34  \n",
      "Hispanic                                                         32  \n",
      "Native Hawaiian or Other Pacific Islander                         4  \n",
      "Two or More Races                                                37  \n",
      "Unknown                                                           0  \n",
      "White                                                           556  \n"
     ]
    }
   ],
   "source": [
    "# Group by Officer Race and Stop Resolution to count arrests\n",
    "arrest_counts = df_terry_stops.groupby(['Officer Race', 'Stop Resolution']).size().unstack(fill_value=0)\n",
    "print (arrest_counts)"
   ]
  },
  {
   "cell_type": "code",
   "execution_count": 14,
   "metadata": {},
   "outputs": [],
   "source": [
    "#This is to strip the whitespace from column names\n",
    "df_terry_stops.columns = df_terry_stops.columns.str.strip()"
   ]
  },
  {
   "cell_type": "code",
   "execution_count": 15,
   "metadata": {},
   "outputs": [
    {
     "name": "stdout",
     "output_type": "stream",
     "text": [
      "   Subject Age Group  Subject ID     GO / SC Num  Terry Stop ID  \\\n",
      "0                  1          -1  20170000167029         264811   \n",
      "1                 26          -1  20160000000367         122750   \n",
      "2                 18          -1  20160000002097         156305   \n",
      "3                 46          -1  20160000002085         156051   \n",
      "4                 26          -1  20160000270653         179111   \n",
      "\n",
      "  Stop Resolution                Weapon Type Officer ID  Officer YOB  \\\n",
      "0  Offense Report                       None       6783         1976   \n",
      "1   Field Contact                       None       6907         1979   \n",
      "2   Field Contact                       None       7492         1983   \n",
      "3   Field Contact                       None       7652         1985   \n",
      "4  Offense Report  Lethal Cutting Instrument       5987         1967   \n",
      "\n",
      "  Officer Gender               Officer Race  ...  \\\n",
      "0              M                      White  ...   \n",
      "1              M                      White  ...   \n",
      "2              M                      White  ...   \n",
      "3              M  Black or African American  ...   \n",
      "4              M                      White  ...   \n",
      "\n",
      "                          Initial Call Type               Final Call Type  \\\n",
      "0  OBS - FIGHT - IP - PHYSICAL (NO WEAPONS)         --DISTURBANCE - FIGHT   \n",
      "1                                         -                             -   \n",
      "2                                         -                             -   \n",
      "3                                         -                             -   \n",
      "4            ASLT - CRITICAL (NO SHOOTINGS)  --CRISIS COMPLAINT - GENERAL   \n",
      "\n",
      "  Call Type                          Officer Squad Arrest Flag Frisk Flag  \\\n",
      "0       911    EAST PCT 2ND W - GEORGE - PLATOON 2           N          N   \n",
      "1         -              SOUTH PCT OPS - NIGHT ACT           N          N   \n",
      "2         -  NORTH PCT 3RD W - LINCOLN - PLATOON 1           N          N   \n",
      "3         -          WEST PCT 1ST W - KQ/DM RELIEF           N          N   \n",
      "4       911       NORTH PCT 2ND WATCH - B/N RELIEF           N          N   \n",
      "\n",
      "  Precinct Sector Beat Time of Day  \n",
      "0     West      K   K3          15  \n",
      "1        -      -    -          16  \n",
      "2        -      -    -           1  \n",
      "3    South      R   R3           5  \n",
      "4    North      B   B1          14  \n",
      "\n",
      "[5 rows x 24 columns]\n"
     ]
    }
   ],
   "source": [
    "\n",
    "# Extracting hour for the time of day\n",
    "df_terry_stops[\"Reported Time\"] = pd.to_datetime(df_terry_stops[\"Reported Time\"])\n",
    "df_terry_stops[\"Time of Day\"] = df_terry_stops[\"Reported Time\"].dt.hour\n",
    "\n",
    "print(df_terry_stops.head())"
   ]
  },
  {
   "cell_type": "markdown",
   "metadata": {},
   "source": [
    "**Handling missing values.**"
   ]
  },
  {
   "cell_type": "code",
   "execution_count": 16,
   "metadata": {},
   "outputs": [
    {
     "name": "stdout",
     "output_type": "stream",
     "text": [
      "Series([], dtype: int64)\n"
     ]
    }
   ],
   "source": [
    "# Check for missing values in the DataFrame\n",
    "missing_values = df_terry_stops.isnull().sum()\n",
    "print(missing_values[missing_values > 0])  # Print only columns with missing values"
   ]
  },
  {
   "cell_type": "markdown",
   "metadata": {},
   "source": [
    "The missing values are those of the officer squad which are of importance hence we can drop the rows that contain them"
   ]
  },
  {
   "cell_type": "code",
   "execution_count": 17,
   "metadata": {},
   "outputs": [],
   "source": [
    "#The officer's squad will be relevant to our analysis therefore we drop the rows containg them t\n",
    "df_terry_stops.dropna(subset=[\"Officer Squad\"], inplace=True)"
   ]
  },
  {
   "cell_type": "code",
   "execution_count": 18,
   "metadata": {},
   "outputs": [
    {
     "data": {
      "text/html": [
       "<div>\n",
       "<style scoped>\n",
       "    .dataframe tbody tr th:only-of-type {\n",
       "        vertical-align: middle;\n",
       "    }\n",
       "\n",
       "    .dataframe tbody tr th {\n",
       "        vertical-align: top;\n",
       "    }\n",
       "\n",
       "    .dataframe thead th {\n",
       "        text-align: right;\n",
       "    }\n",
       "</style>\n",
       "<table border=\"1\" class=\"dataframe\">\n",
       "  <thead>\n",
       "    <tr style=\"text-align: right;\">\n",
       "      <th></th>\n",
       "      <th>Subject Age Group</th>\n",
       "      <th>Subject ID</th>\n",
       "      <th>GO / SC Num</th>\n",
       "      <th>Terry Stop ID</th>\n",
       "      <th>Stop Resolution</th>\n",
       "      <th>Weapon Type</th>\n",
       "      <th>Officer ID</th>\n",
       "      <th>Officer YOB</th>\n",
       "      <th>Officer Gender</th>\n",
       "      <th>Officer Race</th>\n",
       "      <th>...</th>\n",
       "      <th>Initial Call Type</th>\n",
       "      <th>Final Call Type</th>\n",
       "      <th>Call Type</th>\n",
       "      <th>Officer Squad</th>\n",
       "      <th>Arrest Flag</th>\n",
       "      <th>Frisk Flag</th>\n",
       "      <th>Precinct</th>\n",
       "      <th>Sector</th>\n",
       "      <th>Beat</th>\n",
       "      <th>Time of Day</th>\n",
       "    </tr>\n",
       "  </thead>\n",
       "  <tbody>\n",
       "    <tr>\n",
       "      <th>0</th>\n",
       "      <td>1</td>\n",
       "      <td>-1</td>\n",
       "      <td>20170000167029</td>\n",
       "      <td>264811</td>\n",
       "      <td>Offense Report</td>\n",
       "      <td>None</td>\n",
       "      <td>6783</td>\n",
       "      <td>1976</td>\n",
       "      <td>M</td>\n",
       "      <td>White</td>\n",
       "      <td>...</td>\n",
       "      <td>OBS - FIGHT - IP - PHYSICAL (NO WEAPONS)</td>\n",
       "      <td>--DISTURBANCE - FIGHT</td>\n",
       "      <td>911</td>\n",
       "      <td>EAST PCT 2ND W - GEORGE - PLATOON 2</td>\n",
       "      <td>N</td>\n",
       "      <td>N</td>\n",
       "      <td>West</td>\n",
       "      <td>K</td>\n",
       "      <td>K3</td>\n",
       "      <td>15</td>\n",
       "    </tr>\n",
       "    <tr>\n",
       "      <th>1</th>\n",
       "      <td>26</td>\n",
       "      <td>-1</td>\n",
       "      <td>20160000000367</td>\n",
       "      <td>122750</td>\n",
       "      <td>Field Contact</td>\n",
       "      <td>None</td>\n",
       "      <td>6907</td>\n",
       "      <td>1979</td>\n",
       "      <td>M</td>\n",
       "      <td>White</td>\n",
       "      <td>...</td>\n",
       "      <td>-</td>\n",
       "      <td>-</td>\n",
       "      <td>-</td>\n",
       "      <td>SOUTH PCT OPS - NIGHT ACT</td>\n",
       "      <td>N</td>\n",
       "      <td>N</td>\n",
       "      <td>-</td>\n",
       "      <td>-</td>\n",
       "      <td>-</td>\n",
       "      <td>16</td>\n",
       "    </tr>\n",
       "    <tr>\n",
       "      <th>2</th>\n",
       "      <td>18</td>\n",
       "      <td>-1</td>\n",
       "      <td>20160000002097</td>\n",
       "      <td>156305</td>\n",
       "      <td>Field Contact</td>\n",
       "      <td>None</td>\n",
       "      <td>7492</td>\n",
       "      <td>1983</td>\n",
       "      <td>M</td>\n",
       "      <td>White</td>\n",
       "      <td>...</td>\n",
       "      <td>-</td>\n",
       "      <td>-</td>\n",
       "      <td>-</td>\n",
       "      <td>NORTH PCT 3RD W - LINCOLN - PLATOON 1</td>\n",
       "      <td>N</td>\n",
       "      <td>N</td>\n",
       "      <td>-</td>\n",
       "      <td>-</td>\n",
       "      <td>-</td>\n",
       "      <td>1</td>\n",
       "    </tr>\n",
       "    <tr>\n",
       "      <th>3</th>\n",
       "      <td>46</td>\n",
       "      <td>-1</td>\n",
       "      <td>20160000002085</td>\n",
       "      <td>156051</td>\n",
       "      <td>Field Contact</td>\n",
       "      <td>None</td>\n",
       "      <td>7652</td>\n",
       "      <td>1985</td>\n",
       "      <td>M</td>\n",
       "      <td>Black or African American</td>\n",
       "      <td>...</td>\n",
       "      <td>-</td>\n",
       "      <td>-</td>\n",
       "      <td>-</td>\n",
       "      <td>WEST PCT 1ST W - KQ/DM RELIEF</td>\n",
       "      <td>N</td>\n",
       "      <td>N</td>\n",
       "      <td>South</td>\n",
       "      <td>R</td>\n",
       "      <td>R3</td>\n",
       "      <td>5</td>\n",
       "    </tr>\n",
       "    <tr>\n",
       "      <th>4</th>\n",
       "      <td>26</td>\n",
       "      <td>-1</td>\n",
       "      <td>20160000270653</td>\n",
       "      <td>179111</td>\n",
       "      <td>Offense Report</td>\n",
       "      <td>Lethal Cutting Instrument</td>\n",
       "      <td>5987</td>\n",
       "      <td>1967</td>\n",
       "      <td>M</td>\n",
       "      <td>White</td>\n",
       "      <td>...</td>\n",
       "      <td>ASLT - CRITICAL (NO SHOOTINGS)</td>\n",
       "      <td>--CRISIS COMPLAINT - GENERAL</td>\n",
       "      <td>911</td>\n",
       "      <td>NORTH PCT 2ND WATCH - B/N RELIEF</td>\n",
       "      <td>N</td>\n",
       "      <td>N</td>\n",
       "      <td>North</td>\n",
       "      <td>B</td>\n",
       "      <td>B1</td>\n",
       "      <td>14</td>\n",
       "    </tr>\n",
       "  </tbody>\n",
       "</table>\n",
       "<p>5 rows × 24 columns</p>\n",
       "</div>"
      ],
      "text/plain": [
       "   Subject Age Group  Subject ID     GO / SC Num  Terry Stop ID  \\\n",
       "0                  1          -1  20170000167029         264811   \n",
       "1                 26          -1  20160000000367         122750   \n",
       "2                 18          -1  20160000002097         156305   \n",
       "3                 46          -1  20160000002085         156051   \n",
       "4                 26          -1  20160000270653         179111   \n",
       "\n",
       "  Stop Resolution                Weapon Type Officer ID  Officer YOB  \\\n",
       "0  Offense Report                       None       6783         1976   \n",
       "1   Field Contact                       None       6907         1979   \n",
       "2   Field Contact                       None       7492         1983   \n",
       "3   Field Contact                       None       7652         1985   \n",
       "4  Offense Report  Lethal Cutting Instrument       5987         1967   \n",
       "\n",
       "  Officer Gender               Officer Race  ...  \\\n",
       "0              M                      White  ...   \n",
       "1              M                      White  ...   \n",
       "2              M                      White  ...   \n",
       "3              M  Black or African American  ...   \n",
       "4              M                      White  ...   \n",
       "\n",
       "                          Initial Call Type               Final Call Type  \\\n",
       "0  OBS - FIGHT - IP - PHYSICAL (NO WEAPONS)         --DISTURBANCE - FIGHT   \n",
       "1                                         -                             -   \n",
       "2                                         -                             -   \n",
       "3                                         -                             -   \n",
       "4            ASLT - CRITICAL (NO SHOOTINGS)  --CRISIS COMPLAINT - GENERAL   \n",
       "\n",
       "  Call Type                          Officer Squad Arrest Flag Frisk Flag  \\\n",
       "0       911    EAST PCT 2ND W - GEORGE - PLATOON 2           N          N   \n",
       "1         -              SOUTH PCT OPS - NIGHT ACT           N          N   \n",
       "2         -  NORTH PCT 3RD W - LINCOLN - PLATOON 1           N          N   \n",
       "3         -          WEST PCT 1ST W - KQ/DM RELIEF           N          N   \n",
       "4       911       NORTH PCT 2ND WATCH - B/N RELIEF           N          N   \n",
       "\n",
       "  Precinct Sector Beat Time of Day  \n",
       "0     West      K   K3          15  \n",
       "1        -      -    -          16  \n",
       "2        -      -    -           1  \n",
       "3    South      R   R3           5  \n",
       "4    North      B   B1          14  \n",
       "\n",
       "[5 rows x 24 columns]"
      ]
     },
     "execution_count": 18,
     "metadata": {},
     "output_type": "execute_result"
    }
   ],
   "source": [
    "#filling the missing values \n",
    "mode_value = df_terry_stops[\"Officer Squad\"].mode()[0]  # Get the most common value\n",
    "df_terry_stops[\"Officer Squad\"].fillna(mode_value, inplace=True)\n",
    "df_terry_stops.head()"
   ]
  },
  {
   "cell_type": "code",
   "execution_count": 19,
   "metadata": {},
   "outputs": [
    {
     "name": "stdout",
     "output_type": "stream",
     "text": [
      "Subject Age Group           0\n",
      "Subject ID                  0\n",
      "GO / SC Num                 0\n",
      "Terry Stop ID               0\n",
      "Stop Resolution             0\n",
      "Weapon Type                 0\n",
      "Officer ID                  0\n",
      "Officer YOB                 0\n",
      "Officer Gender              0\n",
      "Officer Race                0\n",
      "Subject Perceived Race      0\n",
      "Subject Perceived Gender    0\n",
      "Reported Date               0\n",
      "Reported Time               0\n",
      "Initial Call Type           0\n",
      "Final Call Type             0\n",
      "Call Type                   0\n",
      "Officer Squad               0\n",
      "Arrest Flag                 0\n",
      "Frisk Flag                  0\n",
      "Precinct                    0\n",
      "Sector                      0\n",
      "Beat                        0\n",
      "Time of Day                 0\n",
      "dtype: int64\n"
     ]
    }
   ],
   "source": [
    "print(df_terry_stops.isnull().sum()) #To show missing values\n"
   ]
  },
  {
   "cell_type": "code",
   "execution_count": 20,
   "metadata": {},
   "outputs": [],
   "source": [
    "\n",
    "# Handle missing values\n",
    "df_terry_stops.fillna(method='ffill', inplace=True)"
   ]
  },
  {
   "cell_type": "code",
   "execution_count": null,
   "metadata": {},
   "outputs": [],
   "source": []
  },
  {
   "cell_type": "code",
   "execution_count": 21,
   "metadata": {},
   "outputs": [
    {
     "name": "stdout",
     "output_type": "stream",
     "text": [
      "0\n"
     ]
    }
   ],
   "source": [
    "print(df_terry_stops['Arrest Flag'].isnull().sum())\n"
   ]
  },
  {
   "cell_type": "code",
   "execution_count": 22,
   "metadata": {},
   "outputs": [
    {
     "name": "stdout",
     "output_type": "stream",
     "text": [
      "['N' 'Y']\n"
     ]
    }
   ],
   "source": [
    "print(df_terry_stops['Arrest Flag'].unique())#To see unique values in the clumn \"Arrest flag\"\n"
   ]
  },
  {
   "cell_type": "code",
   "execution_count": 23,
   "metadata": {},
   "outputs": [],
   "source": [
    "# The map function will return NaN for any value not found in the mapping, which we will handle \n",
    "arrest_flag_mapping = {'Y': 1, 'N': 0}\n",
    "df_terry_stops['Arrest Flag'] = df_terry_stops['Arrest Flag'].map(arrest_flag_mapping).astype(int)\n"
   ]
  },
  {
   "cell_type": "code",
   "execution_count": 24,
   "metadata": {},
   "outputs": [],
   "source": [
    "# Ensure numerical columns are numeric\n",
    "df_terry_stops['Reported Time'] = pd.to_numeric(df_terry_stops['Reported Time'], errors='coerce')\n",
    "df_terry_stops['Subject Age Group'] = pd.to_numeric(df_terry_stops['Subject Age Group'], errors='coerce')\n"
   ]
  },
  {
   "cell_type": "markdown",
   "metadata": {},
   "source": [
    "**Handling duplicates** is an important part of data cleaning, as duplicates can skew our analysis and lead to incorrect conclusions.\n",
    "***"
   ]
  },
  {
   "cell_type": "code",
   "execution_count": 25,
   "metadata": {},
   "outputs": [
    {
     "name": "stdout",
     "output_type": "stream",
     "text": [
      "Number of duplicate rows: 0\n"
     ]
    }
   ],
   "source": [
    "#Checking for duplicates\n",
    "duplicate_rows = df_terry_stops.duplicated()\n",
    "num_duplicates = duplicate_rows.sum()\n",
    "print(f\"Number of duplicate rows: {num_duplicates}\")"
   ]
  },
  {
   "cell_type": "markdown",
   "metadata": {},
   "source": [
    "The number of duplicates is zero meaning its ok to work on our data frame\n",
    "\n",
    "**Descriptive Statistics**"
   ]
  },
  {
   "cell_type": "code",
   "execution_count": 26,
   "metadata": {},
   "outputs": [
    {
     "data": {
      "text/html": [
       "<div>\n",
       "<style scoped>\n",
       "    .dataframe tbody tr th:only-of-type {\n",
       "        vertical-align: middle;\n",
       "    }\n",
       "\n",
       "    .dataframe tbody tr th {\n",
       "        vertical-align: top;\n",
       "    }\n",
       "\n",
       "    .dataframe thead th {\n",
       "        text-align: right;\n",
       "    }\n",
       "</style>\n",
       "<table border=\"1\" class=\"dataframe\">\n",
       "  <thead>\n",
       "    <tr style=\"text-align: right;\">\n",
       "      <th></th>\n",
       "      <th>Subject Age Group</th>\n",
       "      <th>Subject ID</th>\n",
       "      <th>GO / SC Num</th>\n",
       "      <th>Terry Stop ID</th>\n",
       "      <th>Officer YOB</th>\n",
       "      <th>Reported Time</th>\n",
       "      <th>Arrest Flag</th>\n",
       "      <th>Time of Day</th>\n",
       "    </tr>\n",
       "  </thead>\n",
       "  <tbody>\n",
       "    <tr>\n",
       "      <th>count</th>\n",
       "      <td>61437.000000</td>\n",
       "      <td>6.143700e+04</td>\n",
       "      <td>6.143700e+04</td>\n",
       "      <td>6.143700e+04</td>\n",
       "      <td>61437.000000</td>\n",
       "      <td>6.143700e+04</td>\n",
       "      <td>61437.00000</td>\n",
       "      <td>61437.000000</td>\n",
       "    </tr>\n",
       "    <tr>\n",
       "      <th>mean</th>\n",
       "      <td>28.953351</td>\n",
       "      <td>7.698276e+09</td>\n",
       "      <td>2.018764e+13</td>\n",
       "      <td>1.297338e+10</td>\n",
       "      <td>1984.301463</td>\n",
       "      <td>1.733746e+18</td>\n",
       "      <td>0.10995</td>\n",
       "      <td>11.725898</td>\n",
       "    </tr>\n",
       "    <tr>\n",
       "      <th>std</th>\n",
       "      <td>13.170665</td>\n",
       "      <td>1.332848e+10</td>\n",
       "      <td>8.564101e+10</td>\n",
       "      <td>1.841708e+10</td>\n",
       "      <td>9.074060</td>\n",
       "      <td>2.606947e+13</td>\n",
       "      <td>0.31283</td>\n",
       "      <td>7.233023</td>\n",
       "    </tr>\n",
       "    <tr>\n",
       "      <th>min</th>\n",
       "      <td>-1.000000</td>\n",
       "      <td>-8.000000e+00</td>\n",
       "      <td>-1.000000e+00</td>\n",
       "      <td>4.257800e+04</td>\n",
       "      <td>1900.000000</td>\n",
       "      <td>1.733702e+18</td>\n",
       "      <td>0.00000</td>\n",
       "      <td>0.000000</td>\n",
       "    </tr>\n",
       "    <tr>\n",
       "      <th>25%</th>\n",
       "      <td>18.000000</td>\n",
       "      <td>-1.000000e+00</td>\n",
       "      <td>2.017000e+13</td>\n",
       "      <td>2.465840e+05</td>\n",
       "      <td>1979.000000</td>\n",
       "      <td>1.733721e+18</td>\n",
       "      <td>0.00000</td>\n",
       "      <td>5.000000</td>\n",
       "    </tr>\n",
       "    <tr>\n",
       "      <th>50%</th>\n",
       "      <td>26.000000</td>\n",
       "      <td>-1.000000e+00</td>\n",
       "      <td>2.018000e+13</td>\n",
       "      <td>5.183560e+05</td>\n",
       "      <td>1986.000000</td>\n",
       "      <td>1.733749e+18</td>\n",
       "      <td>0.00000</td>\n",
       "      <td>12.000000</td>\n",
       "    </tr>\n",
       "    <tr>\n",
       "      <th>75%</th>\n",
       "      <td>36.000000</td>\n",
       "      <td>7.759053e+09</td>\n",
       "      <td>2.021000e+13</td>\n",
       "      <td>2.155390e+10</td>\n",
       "      <td>1991.000000</td>\n",
       "      <td>1.733769e+18</td>\n",
       "      <td>0.00000</td>\n",
       "      <td>18.000000</td>\n",
       "    </tr>\n",
       "    <tr>\n",
       "      <th>max</th>\n",
       "      <td>56.000000</td>\n",
       "      <td>6.118952e+10</td>\n",
       "      <td>2.024000e+13</td>\n",
       "      <td>6.120553e+10</td>\n",
       "      <td>2002.000000</td>\n",
       "      <td>1.733789e+18</td>\n",
       "      <td>1.00000</td>\n",
       "      <td>23.000000</td>\n",
       "    </tr>\n",
       "  </tbody>\n",
       "</table>\n",
       "</div>"
      ],
      "text/plain": [
       "       Subject Age Group    Subject ID   GO / SC Num  Terry Stop ID  \\\n",
       "count       61437.000000  6.143700e+04  6.143700e+04   6.143700e+04   \n",
       "mean           28.953351  7.698276e+09  2.018764e+13   1.297338e+10   \n",
       "std            13.170665  1.332848e+10  8.564101e+10   1.841708e+10   \n",
       "min            -1.000000 -8.000000e+00 -1.000000e+00   4.257800e+04   \n",
       "25%            18.000000 -1.000000e+00  2.017000e+13   2.465840e+05   \n",
       "50%            26.000000 -1.000000e+00  2.018000e+13   5.183560e+05   \n",
       "75%            36.000000  7.759053e+09  2.021000e+13   2.155390e+10   \n",
       "max            56.000000  6.118952e+10  2.024000e+13   6.120553e+10   \n",
       "\n",
       "        Officer YOB  Reported Time  Arrest Flag   Time of Day  \n",
       "count  61437.000000   6.143700e+04  61437.00000  61437.000000  \n",
       "mean    1984.301463   1.733746e+18      0.10995     11.725898  \n",
       "std        9.074060   2.606947e+13      0.31283      7.233023  \n",
       "min     1900.000000   1.733702e+18      0.00000      0.000000  \n",
       "25%     1979.000000   1.733721e+18      0.00000      5.000000  \n",
       "50%     1986.000000   1.733749e+18      0.00000     12.000000  \n",
       "75%     1991.000000   1.733769e+18      0.00000     18.000000  \n",
       "max     2002.000000   1.733789e+18      1.00000     23.000000  "
      ]
     },
     "execution_count": 26,
     "metadata": {},
     "output_type": "execute_result"
    }
   ],
   "source": [
    "#summary statistics to understand the structure of our dataset\n",
    "df_terry_stops.describe()"
   ]
  },
  {
   "cell_type": "markdown",
   "metadata": {},
   "source": [
    "# Then we look at how diffrent relationships between our variables heavily impact the out come\n",
    "***"
   ]
  },
  {
   "cell_type": "code",
   "execution_count": 27,
   "metadata": {},
   "outputs": [
    {
     "name": "stdout",
     "output_type": "stream",
     "text": [
      "Index(['Subject Age Group', 'Subject ID', 'GO / SC Num', 'Terry Stop ID',\n",
      "       'Stop Resolution', 'Weapon Type', 'Officer ID', 'Officer YOB',\n",
      "       'Officer Gender', 'Officer Race', 'Subject Perceived Race',\n",
      "       'Subject Perceived Gender', 'Reported Date', 'Reported Time',\n",
      "       'Initial Call Type', 'Final Call Type', 'Call Type', 'Officer Squad',\n",
      "       'Arrest Flag', 'Frisk Flag', 'Precinct', 'Sector', 'Beat',\n",
      "       'Time of Day'],\n",
      "      dtype='object')\n"
     ]
    }
   ],
   "source": [
    "print(df_terry_stops.columns)"
   ]
  },
  {
   "cell_type": "markdown",
   "metadata": {},
   "source": [
    "# plotting the Age of suspects by the officer's race"
   ]
  },
  {
   "cell_type": "code",
   "execution_count": 28,
   "metadata": {},
   "outputs": [
    {
     "data": {
      "image/png": "[encoded data removed]",
      "text/plain": [
       "<Figure size 720x432 with 1 Axes>"
      ]
     },
     "metadata": {
      "needs_background": "light"
     },
     "output_type": "display_data"
    }
   ],
   "source": [
    "import seaborn as sns\n",
    "import matplotlib.pyplot as plt\n",
    "#ploting a box plot to help highlight\n",
    "plt.figure(figsize=(10, 6))\n",
    "sns.boxplot(x='Officer Race', y='Subject Age Group', data=df_terry_stops)  #\n",
    "plt.title('Age of Suspects by Officer Race')\n",
    "plt.xticks(rotation=45)\n",
    "plt.show()"
   ]
  },
  {
   "cell_type": "markdown",
   "metadata": {},
   "source": [
    "Judging from these data, suspects appear very often between **18- to 25-year-olds**. Comparatively, a hot-spot age in this bunch was 25. Indeed, such a concentration indicates these kinds of arrests reflect most on this age class because probably their social characteristics and some factor contributions of policing methods used would have given place for some offences that generally prevail on subjects of younger age groups."
   ]
  },
  {
   "cell_type": "markdown",
   "metadata": {},
   "source": [
    "# officer gender and stop resolution "
   ]
  },
  {
   "cell_type": "code",
   "execution_count": 29,
   "metadata": {},
   "outputs": [
    {
     "data": {
      "image/png": "[encoded data removed]",
      "text/plain": [
       "<Figure size 720x432 with 1 Axes>"
      ]
     },
     "metadata": {
      "needs_background": "light"
     },
     "output_type": "display_data"
    }
   ],
   "source": [
    "plt.figure(figsize=(10, 6))\n",
    "sns.countplot(x='Officer Gender', hue='Stop Resolution', data=df_terry_stops)\n",
    "plt.title('Arrests by Officer Gender and Stop Resolution')\n",
    "plt.legend(title='Stop Resolution')\n",
    "plt.show()"
   ]
  },
  {
   "cell_type": "markdown",
   "metadata": {},
   "source": [
    "\n",
    "**Arrests**:\n",
    "Male officers tend to have a higher number of arrests compared to female officers. For example, incidents involving male officers often result in arrests for serious offenses such as assaults and robberies.\n",
    "\n",
    "Female officers also make arrests, but the frequency is lower. This could suggest different approaches or decision-making processes in handling stops.\n",
    "\n",
    "Field Contacts:\n",
    "Many stops result in field contacts rather than arrests, indicating that not all interactions lead to legal action. Both male and female officers may issue field contacts based on the circumstances of the stop.\n",
    "Female officers might prioritize de-escalating the situation  or community relations more than their male counterparts."
   ]
  },
  {
   "cell_type": "markdown",
   "metadata": {},
   "source": [
    "# Distribution of police stops by time of day"
   ]
  },
  {
   "cell_type": "code",
   "execution_count": 30,
   "metadata": {},
   "outputs": [
    {
     "data": {
      "image/png": "[encoded data removed]",
      "text/plain": [
       "<Figure size 576x360 with 1 Axes>"
      ]
     },
     "metadata": {
      "needs_background": "light"
     },
     "output_type": "display_data"
    }
   ],
   "source": [
    "# CreatING a bar plot to show the distribution of stops by time of day\n",
    "plt.figure(figsize=(8, 5))\n",
    "sns.barplot(x=time_of_day_counts.index, y=time_of_day_counts.values, palette='viridis')\n",
    "plt.title('Distribution of Police Stops by Time of Day')\n",
    "plt.xlabel('Time of Day')\n",
    "plt.ylabel('Number of Stops')\n",
    "plt.tight_layout()\n",
    "plt.show()"
   ]
  },
  {
   "cell_type": "markdown",
   "metadata": {},
   "source": [
    "The distribution of police stops, depending on time of day, is highly concentrated at night. This can be further analyzed using the reported times in this dataset.\n",
    "**Key Findings:**\n",
    "\n",
    "*Peak Hours*: The majority of police stops occur during late-night hours, particularly between midnight and 3 AM.\n",
    "\n",
    "*Time Distribution*:Stops are more frequent at early morning hours, like 1:00 AM or 2:00 AM, and late evening, like 10:00 PM to midnight. Fewer stops occur at regular daytime hours, which may indicate nighttime as the time of increased police activity. "
   ]
  },
  {
   "cell_type": "markdown",
   "metadata": {},
   "source": [
    "# Number of Arrests by Police Officer's Race\n",
    "***"
   ]
  },
  {
   "cell_type": "code",
   "execution_count": 31,
   "metadata": {},
   "outputs": [
    {
     "data": {
      "image/png": "[encoded data removed]",
      "text/plain": [
       "<Figure size 864x432 with 1 Axes>"
      ]
     },
     "metadata": {
      "needs_background": "light"
     },
     "output_type": "display_data"
    }
   ],
   "source": [
    "import matplotlib.pyplot as plt\n",
    "\n",
    "\n",
    "# Plotting the number of arrests by Officer Race\n",
    "plt.figure(figsize=(12, 6))\n",
    "arrest_counts['Arrest'].plot(kind='bar', color='darkblue')\n",
    "plt.title('Number of Arrests by Officer Race')\n",
    "plt.xlabel('Officer Race')\n",
    "plt.ylabel('Number of Arrests')\n",
    "plt.xticks(rotation=45)\n",
    "plt.tight_layout()\n",
    "plt.show()\n",
    "\n"
   ]
  },
  {
   "cell_type": "markdown",
   "metadata": {},
   "source": [
    "The dataset includes various officer races, including **White, Black or African American, Hispanic, Asian, Native or Hawaiian,  American Indian or Alaska Native**. The majority of arrests are made by officers identified as **White**.\n",
    "\n",
    "Officers who identify as White have the highest number of arrests across various offense categories, particularly for serious offenses such as assaults and narcotics violations.\n",
    "\n",
    "Black or African American officers also contribute to a significant number of arrests, often involving similar types of offenses."
   ]
  },
  {
   "cell_type": "code",
   "execution_count": 32,
   "metadata": {},
   "outputs": [
    {
     "data": {
      "text/plain": [
       "<Figure size 1008x576 with 0 Axes>"
      ]
     },
     "metadata": {},
     "output_type": "display_data"
    },
    {
     "data": {
      "image/png": "[encoded data removed]",
      "text/plain": [
       "<Figure size 432x288 with 1 Axes>"
      ]
     },
     "metadata": {
      "needs_background": "light"
     },
     "output_type": "display_data"
    }
   ],
   "source": [
    "# Stacked Bar Plot for Arrests vs Non-Arrests\n",
    "plt.figure(figsize=(14, 8))\n",
    "arrest_counts.plot(kind='bar', stacked=True)\n",
    "plt.title('Arrests vs Non-Arrests by Officer Race')\n",
    "plt.xlabel('Officer Race')\n",
    "plt.ylabel('Count')\n",
    "plt.xticks(rotation=45)\n",
    "plt.legend(title='Stop Resolution')\n",
    "plt.show()"
   ]
  },
  {
   "cell_type": "markdown",
   "metadata": {},
   "source": [
    "The stacked bar plot allows for comparison between arrest and non-arrest outcomes for each officer race. The  highest  proportion of arrests among White Offficers race compared to others  suggests potential biases and differences in policing practices."
   ]
  },
  {
   "cell_type": "markdown",
   "metadata": {},
   "source": [
    "# Designing the Classification Model"
   ]
  },
  {
   "cell_type": "markdown",
   "metadata": {},
   "source": [
    "Now we will go through a simple workflow of machine learning using Python; it will specifically focus on data preprocessing and preparation for model training. Data manipulation will be done using the `pandas` library, while `scikit-learn` will be used to implement machine learning algorithms.\n",
    "## Objective\n",
    "\n",
    "To predict whether someone was arrested based on several features in the dataset of Terry stops.\n",
    "By the end of this process, we will have a structured approach to preparing our data for machine learning, setting the stage for model training and evaluation.\n",
    "\n"
   ]
  },
  {
   "cell_type": "markdown",
   "metadata": {},
   "source": [
    "\n",
    "\n"
   ]
  },
  {
   "cell_type": "code",
   "execution_count": 33,
   "metadata": {},
   "outputs": [],
   "source": [
    "# Define categorical and numerical columns\n",
    "categorical_cols = ['Officer Race', 'Officer Gender', 'Weapon Type', 'Stop Resolution', 'Precinct']\n",
    "numerical_cols = ['Subject Age Group', 'Time of Day']\n"
   ]
  },
  {
   "cell_type": "code",
   "execution_count": 47,
   "metadata": {},
   "outputs": [],
   "source": [
    "import pandas as pd\n",
    "from sklearn.preprocessing import StandardScaler, OneHotEncoder\n",
    "from sklearn.compose import ColumnTransformer\n",
    "from sklearn.pipeline import Pipeline\n",
    "from sklearn.impute import SimpleImputer\n",
    "from sklearn.linear_model import LogisticRegression\n",
    "from sklearn.model_selection import train_test_split, cross_val_score, learning_curve\n",
    "from sklearn.metrics import precision_score, recall_score, f1_score, accuracy_score\n",
    "from sklearn.tree import DecisionTreeClassifier, plot_tree\n",
    "import matplotlib.pyplot as plt\n",
    "import numpy as np\n"
   ]
  },
  {
   "cell_type": "code",
   "execution_count": 48,
   "metadata": {},
   "outputs": [],
   "source": [
    "# Preprocessing for categorical data\n",
    "categorical_transformer = Pipeline(steps=[\n",
    "    ('imputer', SimpleImputer(strategy='most_frequent')),\n",
    "    ('onehot', OneHotEncoder(handle_unknown='ignore'))\n",
    "])"
   ]
  },
  {
   "cell_type": "code",
   "execution_count": 49,
   "metadata": {},
   "outputs": [],
   "source": [
    "# Preprocessing for numerical data\n",
    "numerical_transformer = Pipeline(steps=[\n",
    "    ('imputer', SimpleImputer(strategy='mean')),\n",
    "    ('scaler', StandardScaler())\n",
    "])"
   ]
  },
  {
   "cell_type": "code",
   "execution_count": 50,
   "metadata": {},
   "outputs": [],
   "source": [
    "# Bundle preprocessing for numerical and categorical data\n",
    "preprocessor = ColumnTransformer(\n",
    "    transformers=[\n",
    "        ('num', numerical_transformer, numerical_cols),\n",
    "        ('cat', categorical_transformer, categorical_cols)\n",
    "    ])\n"
   ]
  },
  {
   "cell_type": "code",
   "execution_count": 51,
   "metadata": {},
   "outputs": [
    {
     "name": "stdout",
     "output_type": "stream",
     "text": [
      "Index(['Subject Age Group', 'Subject ID', 'GO / SC Num', 'Terry Stop ID',\n",
      "       'Stop Resolution', 'Weapon Type', 'Officer ID', 'Officer YOB',\n",
      "       'Officer Gender', 'Officer Race', 'Subject Perceived Race',\n",
      "       'Subject Perceived Gender', 'Reported Date', 'Reported Time',\n",
      "       'Initial Call Type', 'Final Call Type', 'Call Type', 'Officer Squad',\n",
      "       'Arrest Flag', 'Frisk Flag', 'Precinct', 'Sector', 'Beat',\n",
      "       'Time of Day'],\n",
      "      dtype='object')\n"
     ]
    }
   ],
   "source": [
    "print(df_terry_stops.columns)"
   ]
  },
  {
   "cell_type": "code",
   "execution_count": 52,
   "metadata": {},
   "outputs": [],
   "source": [
    "# Preprocess the data\n",
    "X = df_terry_stops.drop(columns=['Arrest Flag'])\n",
    "y = df_terry_stops['Arrest Flag']\n",
    "X_preprocessed = preprocessor.fit_transform(X)"
   ]
  },
  {
   "cell_type": "code",
   "execution_count": 53,
   "metadata": {},
   "outputs": [],
   "source": [
    "from imblearn.over_sampling import SMOTE\n",
    "\n",
    "# Apply SMOTE to balance the classes\n",
    "smote = SMOTE(random_state=42)\n",
    "X_resampled, y_resampled = smote.fit_resample(X_preprocessed, y)"
   ]
  },
  {
   "cell_type": "markdown",
   "metadata": {},
   "source": [
    "Training and Evaluation the Models\n",
    "**Logistic Regression Model**"
   ]
  },
  {
   "cell_type": "code",
   "execution_count": 54,
   "metadata": {},
   "outputs": [],
   "source": [
    "from sklearn.linear_model import LogisticRegression\n",
    "from sklearn.model_selection import train_test_split\n",
    "from sklearn.metrics import precision_score, accuracy_score, recall_score, f1_score\n",
    "import numpy as np"
   ]
  },
  {
   "cell_type": "code",
   "execution_count": 55,
   "metadata": {},
   "outputs": [],
   "source": [
    "# Split the data into training and test sets\n",
    "X_train, X_test, y_train, y_test = train_test_split(X_preprocessed, y, test_size=0.2, random_state=42)"
   ]
  },
  {
   "cell_type": "code",
   "execution_count": 56,
   "metadata": {},
   "outputs": [
    {
     "data": {
      "text/plain": [
       "LogisticRegression(class_weight='balanced')"
      ]
     },
     "execution_count": 56,
     "metadata": {},
     "output_type": "execute_result"
    }
   ],
   "source": [
    "\n",
    "# Train a logistic regression model with class weights\n",
    "logreg = LogisticRegression(class_weight='balanced')\n",
    "logreg.fit(X_train, y_train)\n"
   ]
  },
  {
   "cell_type": "code",
   "execution_count": 57,
   "metadata": {},
   "outputs": [],
   "source": [
    "# Evaluate the model\n",
    "y_pred_train = logreg.predict(X_train)\n",
    "y_pred_test = logreg.predict(X_test)"
   ]
  },
  {
   "cell_type": "code",
   "execution_count": 58,
   "metadata": {},
   "outputs": [
    {
     "name": "stdout",
     "output_type": "stream",
     "text": [
      "Training Precision: 0.98\n",
      "Test Precision: 0.98\n",
      "Training Accuracy: 1.00\n",
      "Test Accuracy: 1.00\n",
      "Training Recall: 1.00\n",
      "Test Recall: 1.00\n",
      "Training F1 Score: 0.99\n",
      "Test F1 Score: 0.99\n"
     ]
    }
   ],
   "source": [
    "# Now for the Training and test performance\n",
    " \n",
    "train_precision = precision_score(y_train, y_pred_train, pos_label=1)\n",
    "test_precision = precision_score(y_test, y_pred_test, pos_label=1)\n",
    "train_accuracy = accuracy_score(y_train, y_pred_train)\n",
    "test_accuracy = accuracy_score(y_test, y_pred_test)\n",
    "train_recall = recall_score(y_train, y_pred_train, pos_label=1)\n",
    "test_recall = recall_score(y_test, y_pred_test, pos_label=1)\n",
    "train_f1 = f1_score(y_train, y_pred_train, pos_label=1)\n",
    "test_f1 = f1_score(y_test, y_pred_test, pos_label=1)\n",
    "\n",
    "print(f'Training Precision: {train_precision:.2f}')\n",
    "print(f'Test Precision: {test_precision:.2f}')\n",
    "print(f'Training Accuracy: {train_accuracy:.2f}')\n",
    "print(f'Test Accuracy: {test_accuracy:.2f}')\n",
    "print(f'Training Recall: {train_recall:.2f}')\n",
    "print(f'Test Recall: {test_recall:.2f}')\n",
    "print(f'Training F1 Score: {train_f1:.2f}')\n",
    "print(f'Test F1 Score: {test_f1:.2f}')"
   ]
  },
  {
   "cell_type": "code",
   "execution_count": 59,
   "metadata": {},
   "outputs": [
    {
     "data": {
      "image/png": "[encoded data removed]",
      "text/plain": [
       "<Figure size 432x288 with 1 Axes>"
      ]
     },
     "metadata": {
      "needs_background": "light"
     },
     "output_type": "display_data"
    }
   ],
   "source": [
    "# Learning curves\n",
    "train_sizes, train_scores, test_scores = learning_curve(logreg, X_preprocessed, y, cv=5, scoring='f1_macro', train_sizes=np.linspace(0.1, 1.0, 10))\n",
    "\n",
    "train_scores_mean = np.mean(train_scores, axis=1)\n",
    "train_scores_std = np.std(train_scores, axis=1)\n",
    "test_scores_mean = np.mean(test_scores, axis=1)\n",
    "test_scores_std = np.std(test_scores, axis=1)\n",
    "\n",
    "plt.figure()\n",
    "plt.fill_between(train_sizes, train_scores_mean - train_scores_std, train_scores_mean + train_scores_std, alpha=0.1, color=\"r\")\n",
    "plt.fill_between(train_sizes, test_scores_mean - test_scores_std, test_scores_mean + test_scores_std, alpha=0.1, color=\"g\")\n",
    "plt.plot(train_sizes, train_scores_mean, 'o-', color=\"r\", label=\"Training score\")\n",
    "plt.plot(train_sizes, test_scores_mean, 'o-', color=\"g\", label=\"Cross-validation score\")\n",
    "plt.xlabel(\"Training examples\")\n",
    "plt.ylabel(\"Score\")\n",
    "plt.legend(loc=\"best\")\n",
    "plt.title(\"Learning Curves (Logistic Regression)\")\n",
    "plt.show()"
   ]
  },
  {
   "cell_type": "markdown",
   "metadata": {},
   "source": [
    "**Key Metrics for Assessing the Model**\n",
    "\n",
    "\n",
    "To evaluate our logistic regression model, we used four key metrics: Accuracy, Precision, Recall, and the F1 Score. These metrics collectively help us gauge how well the model predicts arrests based on Terry Stops.\n",
    "\n",
    "\n",
    "**Accuracy ** The percentage of correct predictions (both arrests and non-arrests). High accuracy shows the model is generally reliable but might not give the full picture if arrests are rare.\n",
    "\n",
    "\n",
    "**Precision**  Of all the predicted arrests, how many were correct.\n",
    "High precision ensures that when the model predicts an arrest, it’s likely accurate. This reduces unnecessary actions and errors.\n",
    "\n",
    "\n",
    "**Recall** Of all actual arrests, how many the model correctly identified.\n",
    "High recall ensures that most potential arrests are flagged, helping improve safety by reducing missed cases.\n",
    "\n",
    "\n",
    "**F1 Score** A balance between precision and recall.\n",
    "Useful when both false positives and false negatives have significant consequences.\n",
    "\n",
    "\n",
    "**Why These Metrics Matter**\n",
    "\n",
    "\n",
    "Using a mix of these metrics gives a complete view of the model's performance. Accuracy provides an overall picture, while precision and recall focus on avoiding errors. The F1 score combines both to evaluate the model’s balance, crucial for sensitive applications like law enforcement.\n",
    "________________________________________\n"
   ]
  },
  {
   "cell_type": "markdown",
   "metadata": {},
   "source": [
    "# Decision Tree Model"
   ]
  },
  {
   "cell_type": "code",
   "execution_count": 60,
   "metadata": {},
   "outputs": [],
   "source": [
    "from sklearn.tree import DecisionTreeClassifier\n",
    "from sklearn.metrics import precision_score, accuracy_score, recall_score, f1_score\n",
    "import matplotlib.pyplot as plt\n",
    "from sklearn.tree import plot_tree\n"
   ]
  },
  {
   "cell_type": "code",
   "execution_count": 61,
   "metadata": {},
   "outputs": [
    {
     "data": {
      "text/plain": [
       "DecisionTreeClassifier()"
      ]
     },
     "execution_count": 61,
     "metadata": {},
     "output_type": "execute_result"
    }
   ],
   "source": [
    "# Train a decision tree model\n",
    "dt = DecisionTreeClassifier()\n",
    "dt.fit(X_train, y_train)"
   ]
  },
  {
   "cell_type": "code",
   "execution_count": 62,
   "metadata": {},
   "outputs": [],
   "source": [
    "# Evaluate the model\n",
    "y_pred_dt_train = dt.predict(X_train)\n",
    "y_pred_dt_test = dt.predict(X_test)"
   ]
  },
  {
   "cell_type": "code",
   "execution_count": 63,
   "metadata": {},
   "outputs": [
    {
     "name": "stdout",
     "output_type": "stream",
     "text": [
      "Training Precision (Decision Tree): 1.00\n",
      "Test Precision (Decision Tree): 0.99\n",
      "Training Accuracy (Decision Tree): 1.00\n",
      "Test Accuracy (Decision Tree): 1.00\n",
      "Training Recall (Decision Tree): 1.00\n",
      "Test Recall (Decision Tree): 0.99\n",
      "Training F1 Score (Decision Tree): 1.00\n",
      "Test F1 Score (Decision Tree): 0.99\n"
     ]
    }
   ],
   "source": [
    "# Training and test performance\n",
    "train_precision_dt = precision_score(y_train, y_pred_dt_train, pos_label=1)\n",
    "test_precision_dt = precision_score(y_test, y_pred_dt_test, pos_label=1)\n",
    "train_accuracy_dt = accuracy_score(y_train, y_pred_dt_train)\n",
    "test_accuracy_dt = accuracy_score(y_test, y_pred_dt_test)\n",
    "train_recall_dt = recall_score(y_train, y_pred_dt_train, pos_label=1)\n",
    "test_recall_dt = recall_score(y_test, y_pred_dt_test, pos_label=1)\n",
    "train_f1_dt = f1_score(y_train, y_pred_dt_train, pos_label=1)\n",
    "test_f1_dt = f1_score(y_test, y_pred_dt_test, pos_label=1)\n",
    "\n",
    "print(f'Training Precision (Decision Tree): {train_precision_dt:.2f}')\n",
    "print(f'Test Precision (Decision Tree): {test_precision_dt:.2f}')\n",
    "print(f'Training Accuracy (Decision Tree): {train_accuracy_dt:.2f}')\n",
    "print(f'Test Accuracy (Decision Tree): {test_accuracy_dt:.2f}')\n",
    "print(f'Training Recall (Decision Tree): {train_recall_dt:.2f}')\n",
    "print(f'Test Recall (Decision Tree): {test_recall_dt:.2f}')\n",
    "print(f'Training F1 Score (Decision Tree): {train_f1_dt:.2f}')\n",
    "print(f'Test F1 Score (Decision Tree): {test_f1_dt:.2f}')"
   ]
  },
  {
   "cell_type": "markdown",
   "metadata": {},
   "source": [
    "**A Brief Look at Metric Usage **\n",
    "***\n",
    "\n",
    "\n",
    "Although decision trees classify a few of the fundamental metrics important for our model, these measures are Accuracy, Precision, and Recall. They define to measure the performance of the model itself in predicting the outcome relating to Terry Stops and arrests.\n",
    "\n",
    "**Accuracy:**  -#This is the ratio of the total number of correct predictions made by the model, comprised of true positives as well as true negatives, against total predictions.\n",
    " \n",
    " \n",
    " Real World Meaning of Measure: A high accuracy measurement for \"predicting if an arrest will occur\" ishows  that the model is more reliable; otherwise, that accuracy is misleading if the data set is imbalanced.\n",
    "\n",
    "**Precision:**  - Precision is the ratio of true positive predictions against positive total predictions made by the model.\n",
    "Real-World Implication: The model is likely correct when predicting an arrest with high precision. In law enforcement, the importance is derived from the loss of faith in the police if the arrest should not occur when that prediction has been made. \n",
    "\n",
    "\n",
    "**Recall:**\n",
    "\n",
    "\n",
    "Definition: Recall, or sensitivity, is the ratio of positive cases in the ground data to true positive predictions.\n",
    "Real-World Implication: A model's high recall implies that most actual arrests the model will identify. In community policing, the arrested cases should not escape behind the curtain in lapses. \n",
    "\n",
    "**Reasons for Selecting These Metrics **\n",
    "\n",
    "\n",
    "The trio  provide a wider net to cast the measure of the model while high fidelity could be predicted by accuracy. Precision and recall deal with the challenging contest that must be struck between finding true arrests and ensuring that false ones are minimal. This gets of utmost importance in policing contexts because it may get atrocity levels in human rights violations."
   ]
  },
  {
   "cell_type": "markdown",
   "metadata": {},
   "source": [
    "# Challenges and Limitations\n",
    "***"
   ]
  },
  {
   "cell_type": "markdown",
   "metadata": {},
   "source": [
    "**Challenges and Limitations**\n",
    "1.\tImbalanced Data\n",
    "\n",
    "Problem: If arrests are rare, the model might favor predicting non-arrests, missing actual cases.\n",
    "\n",
    "Impact: This can undermine the model's effectiveness for minority outcomes.\n",
    "\n",
    "\n",
    "2.\tLinearity Assumptions\n",
    "\n",
    "\n",
    "Problem: Logistic regression assumes a straight-line relationship between factors and outcomes.\n",
    "\n",
    "\n",
    "Impact: This might oversimplify complex relationships in the data.\n",
    "\n",
    "\n",
    "3.\tFeature Interactions\n",
    "\n",
    "\n",
    "Problem: The model highlights key factors but may miss subtle interactions between them.\n",
    "\n",
    "\n",
    "Impact: Important insights could be overlooked.\n",
    "________________________________________\n",
    "**Recommendations for Improvement**\n",
    "1.\tHandle Imbalanced Data\n",
    "\n",
    "\n",
    "Use techniques like resampling or generating synthetic data to ensure balanced predictions.\n",
    "\n",
    "\n",
    "2.\tEnhance Feature Engineering\n",
    "\n",
    "\n",
    "Identify and include non-linear relationships or feature interactions to refine the model.\n",
    "\n",
    "\n",
    "3.\tKeep the Model Updated\n",
    "\n",
    "\n",
    "Regularly incorporate new data to reflect current trends and maintain relevance.\n",
    "\n",
    "\n",
    "4.\tEngage Stakeholders\n",
    "\n",
    "\n",
    "Train law enforcement personnel on the model’s use, ensuring they understand its insights and limitations.\n",
    "________________________________________\n"
   ]
  },
  {
   "cell_type": "markdown",
   "metadata": {},
   "source": [
    "# Conclusion"
   ]
  },
  {
   "cell_type": "markdown",
   "metadata": {},
   "source": [
    "In conclusion, the decision tree model is the final model of choice due to its superior performance metrics, particularly in precision. This model is well-suited for the task of predicting arrests after Terry stops, as it effectively minimizes false positives, which is crucial for maintaining trust and fairness in law enforcement practices. The model's interpretability, as demonstrated by the feature importance analysis, also provides valuable insights into the factors that influence arrest decisions, which can inform policy-making and training programs for law enforcement officers."
   ]
  }
 ],
 "metadata": {
  "kernelspec": {
   "display_name": "Python (learn-env)",
   "language": "python",
   "name": "learn-env"
  },
  "language_info": {
   "codemirror_mode": {
    "name": "ipython",
    "version": 3
   },
   "file_extension": ".py",
   "mimetype": "text/x-python",
   "name": "python",
   "nbconvert_exporter": "python",
   "pygments_lexer": "ipython3",
   "version": "3.8.5"
  }
 },
 "nbformat": 4,
 "nbformat_minor": 4
}
